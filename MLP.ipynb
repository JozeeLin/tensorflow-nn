{
  "nbformat": 4,
  "nbformat_minor": 0,
  "metadata": {
    "colab": {
      "name": "MLP.ipynb",
      "version": "0.3.2",
      "provenance": [],
      "collapsed_sections": []
    }
  },
  "cells": [
    {
      "metadata": {
        "id": "W5bMtFO4ot16",
        "colab_type": "text"
      },
      "cell_type": "markdown",
      "source": [
        "# 多层感知机"
      ]
    },
    {
      "metadata": {
        "id": "bobqSZR6orax",
        "colab_type": "code",
        "colab": {}
      },
      "cell_type": "code",
      "source": [
        "import numpy as np\n",
        "import sklearn.preprocessing as prep\n",
        "import tensorflow as tf\n",
        "from tensorflow.examples.tutorials.mnist import input_data\n",
        "import matplotlib.pyplot as plt\n",
        "%matplotlib inline"
      ],
      "execution_count": 0,
      "outputs": []
    },
    {
      "metadata": {
        "id": "HKVcTQ2eo2VG",
        "colab_type": "code",
        "colab": {}
      },
      "cell_type": "code",
      "source": [
        "#tf.Session与tf.InteractiveSession的区别，InteractiveSession在后面的各项操作无须指定Session\n",
        "sess = tf.InteractiveSession()"
      ],
      "execution_count": 0,
      "outputs": []
    },
    {
      "metadata": {
        "id": "M3Xxpsc4o6Nv",
        "colab_type": "code",
        "colab": {}
      },
      "cell_type": "code",
      "source": [
        "in_units = 784 #输入节点数\n",
        "h1_units = 300 #隐藏层的输出节点数\n",
        "#隐藏层的权重和偏置\n",
        "#将权重初始化为截断的正态分布，其标准差为0.1(因为使用的激活函数是ReLU，所以需要正态分布给参数增加一点噪声来打破完全对称并且避免0梯度)\n",
        "W1 = tf.Variable(tf.truncated_normal([in_units,h1_units],stddev=0.1)) \n",
        "b1 = tf.Variable(tf.zeros([h1_units]))\n",
        "#输出层softmax的权重和偏置，初始化为0，因为sigmoid在0附近最敏感，梯度最大。\n",
        "W2 = tf.Variable(tf.zeros([h1_units,10]))\n",
        "b2 = tf.Variable(tf.zeros([10]))"
      ],
      "execution_count": 0,
      "outputs": []
    },
    {
      "metadata": {
        "id": "d0YO-e8No-XY",
        "colab_type": "code",
        "colab": {}
      },
      "cell_type": "code",
      "source": [
        "#输入特征的placeholder\n",
        "x = tf.placeholder(tf.float32, [None,in_units])\n",
        "\n",
        "#dropout也是计算图的输入；dropout的比率keep_prob(即保留节点的概率)是不一样的，通常在训练时小于1，而预测时则等于1\n",
        "keep_prob = tf.placeholder(tf.float32)"
      ],
      "execution_count": 0,
      "outputs": []
    },
    {
      "metadata": {
        "id": "2m4Bv9Jmo_9E",
        "colab_type": "code",
        "colab": {}
      },
      "cell_type": "code",
      "source": [
        "#1、定义模型结构。首先需要一个隐藏层，为hidden1，接着，调用tf.nn.dropout实现dropout功能，即随机将一部分节点置为0。\n",
        "#这里的keep_prob参数即为保留数据而不置为0的比例，在训练时应该是小于1的，用于制造随机性，防止过拟合，最后是输出层\n",
        "\n",
        "hidden1 = tf.nn.relu(tf.matmul(x,W1)+b1) #隐藏层\n",
        "hidden1_drop = tf.nn.dropout(hidden1, keep_prob) #调用dropout\n",
        "y = tf.nn.softmax(tf.matmul(hidden1_drop, W2)+b2) #softmax层"
      ],
      "execution_count": 0,
      "outputs": []
    },
    {
      "metadata": {
        "id": "_mNWVacRpBZQ",
        "colab_type": "code",
        "colab": {}
      },
      "cell_type": "code",
      "source": [
        "#2、定义损失函数和选择优化器来优化loss，这里的损失函数继续使用交叉熵，而优化器使用Adagrad，学习速率设为0.3\n",
        "y_ = tf.placeholder(tf.float32,[None,10])\n",
        "cross_entropy = tf.reduce_mean(-tf.reduce_sum(y_ * tf.log(y),reduction_indices=[1]))"
      ],
      "execution_count": 0,
      "outputs": []
    },
    {
      "metadata": {
        "id": "wozRZC-RpCqH",
        "colab_type": "code",
        "colab": {}
      },
      "cell_type": "code",
      "source": [
        "#3、训练步骤\n",
        "train_step = tf.train.AdagradOptimizer(0.3).minimize(cross_entropy)\n",
        "tf.global_variables_initializer().run()\n",
        "\n",
        "for i in range(3000):\n",
        "  batch_xs, batch_ys = mnist.train.next_batch(100)\n",
        "  train_step.run({x:batch_xs, y_:batch_ys,keep_prob:0.75})"
      ],
      "execution_count": 0,
      "outputs": []
    },
    {
      "metadata": {
        "id": "h5Y9sALZpETb",
        "colab_type": "code",
        "colab": {}
      },
      "cell_type": "code",
      "source": [
        "#4、对模型进行准确率评测\n",
        "correct_prediction = tf.equal(tf.argmax(y, 1), tf.argmax(y_, 1))\n",
        "accuracy = tf.reduce_mean(tf.cast(correct_prediction, tf.float32))\n",
        "print(accuracy.eval({x:mnist.test.images, y_:mnist.test.labels, keep_prob:1.0}))"
      ],
      "execution_count": 0,
      "outputs": []
    }
  ]
}